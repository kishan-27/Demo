{
 "cells": [
  {
   "cell_type": "markdown",
   "id": "e392a6f7",
   "metadata": {
    "_cell_guid": "b1076dfc-b9ad-4769-8c92-a6c4dae69d19",
    "_uuid": "8f2839f25d086af736a60e9eeb907d3b93b6e0e5",
    "papermill": {
     "duration": 0.005988,
     "end_time": "2023-09-05T16:59:48.999006",
     "exception": false,
     "start_time": "2023-09-05T16:59:48.993018",
     "status": "completed"
    },
    "tags": []
   },
   "source": [
    "## Practical No.2 : Write a NumPy program to implement following operation\n",
    "### • to convert a list of numeric values into a one-dimensional NumPy array"
   ]
  },
  {
   "cell_type": "code",
   "execution_count": 1,
   "id": "5aa492e7",
   "metadata": {
    "execution": {
     "iopub.execute_input": "2023-09-05T16:59:49.012128Z",
     "iopub.status.busy": "2023-09-05T16:59:49.011731Z",
     "iopub.status.idle": "2023-09-05T16:59:49.026668Z",
     "shell.execute_reply": "2023-09-05T16:59:49.025565Z"
    },
    "papermill": {
     "duration": 0.024489,
     "end_time": "2023-09-05T16:59:49.029020",
     "exception": false,
     "start_time": "2023-09-05T16:59:49.004531",
     "status": "completed"
    },
    "tags": []
   },
   "outputs": [
    {
     "name": "stdout",
     "output_type": "stream",
     "text": [
      "List:  [1, 2, 3, 4, 5, 6, 7, 8, 9]\n",
      "Array:  [1 2 3 4 5 6 7 8 9]\n"
     ]
    }
   ],
   "source": [
    "# Name : Kishan Lashkari\n",
    "# Enrollment : 216270307002\n",
    "\n",
    "import numpy  \n",
    "\n",
    "a = [1, 2, 3, 4, 5, 6, 7, 8, 9]  \n",
    "\n",
    "arr = numpy.array(a) \n",
    "\n",
    "print (\"List: \", a) \n",
    "\n",
    "print (\"Array: \", arr)"
   ]
  },
  {
   "cell_type": "markdown",
   "id": "47261b67",
   "metadata": {
    "papermill": {
     "duration": 0.004969,
     "end_time": "2023-09-05T16:59:49.039349",
     "exception": false,
     "start_time": "2023-09-05T16:59:49.034380",
     "status": "completed"
    },
    "tags": []
   },
   "source": [
    "### • to create a 3x3 matrix with values ranging from 2 to 10"
   ]
  },
  {
   "cell_type": "code",
   "execution_count": 2,
   "id": "95180e7b",
   "metadata": {
    "execution": {
     "iopub.execute_input": "2023-09-05T16:59:49.051991Z",
     "iopub.status.busy": "2023-09-05T16:59:49.050985Z",
     "iopub.status.idle": "2023-09-05T16:59:49.057199Z",
     "shell.execute_reply": "2023-09-05T16:59:49.056396Z"
    },
    "papermill": {
     "duration": 0.014723,
     "end_time": "2023-09-05T16:59:49.059278",
     "exception": false,
     "start_time": "2023-09-05T16:59:49.044555",
     "status": "completed"
    },
    "tags": []
   },
   "outputs": [
    {
     "name": "stdout",
     "output_type": "stream",
     "text": [
      "[[ 2  3  4]\n",
      " [ 5  6  7]\n",
      " [ 8  9 10]]\n"
     ]
    }
   ],
   "source": [
    "# Name : Kishan Lashkari\n",
    "# Enrollment : 216270307002\n",
    "\n",
    "import numpy as np\n",
    "\n",
    "arr = np.array([2, 3, 4, 5, 6, 7, 8, 9, 10])\n",
    "\n",
    "newarr = arr.reshape(3, 3)\n",
    "\n",
    "print(newarr)"
   ]
  },
  {
   "cell_type": "markdown",
   "id": "b026fe7b",
   "metadata": {
    "papermill": {
     "duration": 0.00505,
     "end_time": "2023-09-05T16:59:49.069694",
     "exception": false,
     "start_time": "2023-09-05T16:59:49.064644",
     "status": "completed"
    },
    "tags": []
   },
   "source": [
    "### • to append values at the end of an array"
   ]
  },
  {
   "cell_type": "code",
   "execution_count": 3,
   "id": "a2f0f7f6",
   "metadata": {
    "execution": {
     "iopub.execute_input": "2023-09-05T16:59:49.082611Z",
     "iopub.status.busy": "2023-09-05T16:59:49.081864Z",
     "iopub.status.idle": "2023-09-05T16:59:49.089261Z",
     "shell.execute_reply": "2023-09-05T16:59:49.087773Z"
    },
    "papermill": {
     "duration": 0.016711,
     "end_time": "2023-09-05T16:59:49.091660",
     "exception": false,
     "start_time": "2023-09-05T16:59:49.074949",
     "status": "completed"
    },
    "tags": []
   },
   "outputs": [
    {
     "name": "stdout",
     "output_type": "stream",
     "text": [
      "Original Array :  [10 15 20 25]\n",
      "Array after appending :  [10 15 20 25 30]\n"
     ]
    }
   ],
   "source": [
    "# Name : Kishan Lashkari\n",
    "# Enrollment : 216270307002\n",
    "\n",
    "import numpy as np\n",
    "\n",
    "arr = np.array([10, 15, 20, 25])\n",
    "print('Original Array : ', arr)\n",
    "\n",
    "arr = np.append(arr, [30])\n",
    "print('Array after appending : ', arr)"
   ]
  },
  {
   "cell_type": "markdown",
   "id": "ea424f48",
   "metadata": {
    "papermill": {
     "duration": 0.005151,
     "end_time": "2023-09-05T16:59:49.102275",
     "exception": false,
     "start_time": "2023-09-05T16:59:49.097124",
     "status": "completed"
    },
    "tags": []
   },
   "source": [
    "### • to create another shape from an array without changing its data (3 * 2 to 2 * 3)"
   ]
  },
  {
   "cell_type": "code",
   "execution_count": 4,
   "id": "22d7ba13",
   "metadata": {
    "execution": {
     "iopub.execute_input": "2023-09-05T16:59:49.114686Z",
     "iopub.status.busy": "2023-09-05T16:59:49.114277Z",
     "iopub.status.idle": "2023-09-05T16:59:49.122590Z",
     "shell.execute_reply": "2023-09-05T16:59:49.121169Z"
    },
    "papermill": {
     "duration": 0.017207,
     "end_time": "2023-09-05T16:59:49.124818",
     "exception": false,
     "start_time": "2023-09-05T16:59:49.107611",
     "status": "completed"
    },
    "tags": []
   },
   "outputs": [
    {
     "name": "stdout",
     "output_type": "stream",
     "text": [
      "Reshape 3x2 :\n",
      "[[10 20]\n",
      " [30 40]\n",
      " [50 60]]\n",
      "Reshape 2x3 :\n",
      "[[10 20 30]\n",
      " [40 50 60]]\n"
     ]
    }
   ],
   "source": [
    "# Name : Kishan Lashkari\n",
    "# Enrollment : 216270307002\n",
    "\n",
    "import numpy as np\n",
    "\n",
    "x = np.array([10, 20, 30, 40, 50, 60])\n",
    "y = np.reshape(x, (3, 2))\n",
    "\n",
    "print(\"Reshape 3x2 :\")\n",
    "print(y)\n",
    "\n",
    "z = np.reshape(x, (2, 3))\n",
    "print(\"Reshape 2x3 :\")\n",
    "print(z)"
   ]
  },
  {
   "cell_type": "code",
   "execution_count": null,
   "id": "8de9caf2",
   "metadata": {
    "papermill": {
     "duration": 0.005213,
     "end_time": "2023-09-05T16:59:49.135820",
     "exception": false,
     "start_time": "2023-09-05T16:59:49.130607",
     "status": "completed"
    },
    "tags": []
   },
   "outputs": [],
   "source": []
  }
 ],
 "kernelspec": {
  "display_name": "Python 3",
  "language": "python",
  "name": "python3"
 },
 "language_info": {
  "codemirror_mode": {
   "name": "ipython",
   "version": 3
  },
  "file_extension": ".py",
  "mimetype": "text/x-python",
  "name": "python",
  "nbconvert_exporter": "python",
  "pygments_lexer": "ipython3",
  "version": "3.6.4"
 },
 "metadata": {
  "kernelspec": {
   "display_name": "Python 3",
   "language": "python",
   "name": "python3"
  },
  "language_info": {
   "codemirror_mode": {
    "name": "ipython",
    "version": 3
   },
   "file_extension": ".py",
   "mimetype": "text/x-python",
   "name": "python",
   "nbconvert_exporter": "python",
   "pygments_lexer": "ipython3",
   "version": "3.10.12"
  },
  "papermill": {
   "default_parameters": {},
   "duration": 4.068062,
   "end_time": "2023-09-05T16:59:49.461519",
   "environment_variables": {},
   "exception": null,
   "input_path": "__notebook__.ipynb",
   "output_path": "__notebook__.ipynb",
   "parameters": {},
   "start_time": "2023-09-05T16:59:45.393457",
   "version": "2.4.0"
  }
 },
 "nbformat": 4,
 "nbformat_minor": 5
}
